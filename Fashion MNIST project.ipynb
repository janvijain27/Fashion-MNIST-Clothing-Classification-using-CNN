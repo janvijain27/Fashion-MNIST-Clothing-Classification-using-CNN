{
 "cells": [
  {
   "cell_type": "code",
   "execution_count": 2,
   "metadata": {},
   "outputs": [],
   "source": [
    "import numpy as np\n",
    "import pandas as pd\n",
    "%matplotlib inline\n",
    "import matplotlib as mpl\n",
    "import matplotlib.pyplot as plt"
   ]
  },
  {
   "cell_type": "code",
   "execution_count": 3,
   "metadata": {},
   "outputs": [],
   "source": [
    "import tensorflow as tf\n",
    "from tensorflow import keras"
   ]
  },
  {
   "cell_type": "code",
   "execution_count": 4,
   "metadata": {},
   "outputs": [],
   "source": [
    "fashion_mnist=keras.datasets.fashion_mnist\n",
    "(x_train_full,y_train_full),(x_test,y_test)=fashion_mnist.load_data()\n"
   ]
  },
  {
   "cell_type": "code",
   "execution_count": 4,
   "metadata": {},
   "outputs": [],
   "source": [
    "class_names=[\"T-shirts\",\"Trousers\",\"Pullover\",\"Dress\",\"Coat\",\"Sandal\",\"Shirt\",\"Sneaker\",\"Bag\",\"Ankle Boot\"]"
   ]
  },
  {
   "cell_type": "markdown",
   "metadata": {},
   "source": [
    "# Data Reshape   \n",
    "in ANN we flatten the input but in CNN we have to convert it into 3D array as input (height,width,no. of channel)\n",
    "we have 60,000"
   ]
  },
  {
   "cell_type": "code",
   "execution_count": 5,
   "metadata": {},
   "outputs": [],
   "source": [
    "x_train_full=x_train_full.reshape((60000,28,28,1))\n",
    "x_test=x_test.reshape((10000,28,28,1))"
   ]
  },
  {
   "cell_type": "markdown",
   "metadata": {},
   "source": [
    "# Data normalization:\n",
    "we normalise the data dimensions so that they are of approximately of the same scale\n",
    "also as there are 255 pixel in grey scale image .hence we divide by 255 so as to get value between 0-1"
   ]
  },
  {
   "cell_type": "code",
   "execution_count": 9,
   "metadata": {},
   "outputs": [],
   "source": [
    "x_train_n=x_train_full/255\n",
    "x_test_n=x_test/255"
   ]
  },
  {
   "cell_type": "markdown",
   "metadata": {},
   "source": [
    "# now  we are spliting the data into train/validation/test dataset\n",
    "training data- used for training the data \n",
    "Validation data - used for tuning the hyperparameters and evaluate the models\n",
    "test data- used to test the model after the model has gone through initial vetting by the validation set.\n"
   ]
  },
  {
   "cell_type": "code",
   "execution_count": 10,
   "metadata": {
    "scrolled": true
   },
   "outputs": [],
   "source": [
    "x_vaid,x_train= x_train_n[:5000],x_train_n[5000:]\n",
    "y_vaid,y_train=y_train_full[:5000],y_train_full[5000:]\n",
    "x_test=x_test_n"
   ]
  },
  {
   "cell_type": "code",
   "execution_count": 11,
   "metadata": {},
   "outputs": [],
   "source": [
    "np.random.seed(42)\n",
    "tf.random.set_seed(42)"
   ]
  },
  {
   "cell_type": "markdown",
   "metadata": {},
   "source": [
    "# Model Architecture"
   ]
  },
  {
   "cell_type": "code",
   "execution_count": 13,
   "metadata": {},
   "outputs": [],
   "source": [
    "model=keras.models.Sequential()\n",
    "model.add(keras.layers.Conv2D(filters=32,kernel_size=(3,3),strides=1,padding='valid',activation='relu',input_shape=(28,28,1)))\n",
    "model.add(keras.layers.MaxPooling2D((2,2)))\n",
    "\n",
    "model.add(keras.layers.Flatten())\n",
    "model.add(keras.layers.Dense(300,activation=\"relu\"))\n",
    "model.add(keras.layers.Dense(100,activation=\"relu\"))\n",
    "model.add(keras.layers.Dense(10,activation=\"softmax\"))"
   ]
  },
  {
   "cell_type": "code",
   "execution_count": 14,
   "metadata": {},
   "outputs": [
    {
     "name": "stdout",
     "output_type": "stream",
     "text": [
      "Model: \"sequential_1\"\n",
      "_________________________________________________________________\n",
      "Layer (type)                 Output Shape              Param #   \n",
      "=================================================================\n",
      "conv2d_1 (Conv2D)            (None, 26, 26, 32)        320       \n",
      "_________________________________________________________________\n",
      "max_pooling2d_1 (MaxPooling2 (None, 13, 13, 32)        0         \n",
      "_________________________________________________________________\n",
      "flatten_1 (Flatten)          (None, 5408)              0         \n",
      "_________________________________________________________________\n",
      "dense (Dense)                (None, 300)               1622700   \n",
      "_________________________________________________________________\n",
      "dense_1 (Dense)              (None, 100)               30100     \n",
      "_________________________________________________________________\n",
      "dense_2 (Dense)              (None, 10)                1010      \n",
      "=================================================================\n",
      "Total params: 1,654,130\n",
      "Trainable params: 1,654,130\n",
      "Non-trainable params: 0\n",
      "_________________________________________________________________\n"
     ]
    }
   ],
   "source": [
    "model.summary()"
   ]
  },
  {
   "cell_type": "code",
   "execution_count": 15,
   "metadata": {},
   "outputs": [],
   "source": [
    "model.compile(loss=\"sparse_categorical_crossentropy\",\n",
    "             optimizer=\"sgd\",\n",
    "             metrics=[\"accuracy\"])"
   ]
  },
  {
   "cell_type": "code",
   "execution_count": 18,
   "metadata": {},
   "outputs": [
    {
     "name": "stdout",
     "output_type": "stream",
     "text": [
      "Epoch 1/30\n",
      "860/860 [==============================] - 57s 58ms/step - loss: 1.1969 - accuracy: 0.6164 - val_loss: 0.7372 - val_accuracy: 0.7286\n",
      "Epoch 2/30\n",
      "860/860 [==============================] - 46s 54ms/step - loss: 0.5617 - accuracy: 0.7967 - val_loss: 0.4845 - val_accuracy: 0.8228\n",
      "Epoch 3/30\n",
      "860/860 [==============================] - 46s 54ms/step - loss: 0.4916 - accuracy: 0.8214 - val_loss: 0.8826 - val_accuracy: 0.7038\n",
      "Epoch 4/30\n",
      "860/860 [==============================] - 46s 54ms/step - loss: 0.4528 - accuracy: 0.8379 - val_loss: 0.4141 - val_accuracy: 0.8588\n",
      "Epoch 5/30\n",
      "860/860 [==============================] - 47s 55ms/step - loss: 0.4321 - accuracy: 0.8445 - val_loss: 0.4224 - val_accuracy: 0.8508\n",
      "Epoch 6/30\n",
      "860/860 [==============================] - 43s 50ms/step - loss: 0.3960 - accuracy: 0.8561 - val_loss: 0.3732 - val_accuracy: 0.8714\n",
      "Epoch 7/30\n",
      "860/860 [==============================] - 38s 44ms/step - loss: 0.3784 - accuracy: 0.8652 - val_loss: 0.4115 - val_accuracy: 0.8520\n",
      "Epoch 8/30\n",
      "860/860 [==============================] - 39s 45ms/step - loss: 0.3604 - accuracy: 0.8691 - val_loss: 0.5062 - val_accuracy: 0.8130\n",
      "Epoch 9/30\n",
      "860/860 [==============================] - 38s 45ms/step - loss: 0.3568 - accuracy: 0.8711 - val_loss: 0.3746 - val_accuracy: 0.8644\n",
      "Epoch 10/30\n",
      "860/860 [==============================] - 39s 45ms/step - loss: 0.3366 - accuracy: 0.8797 - val_loss: 0.3671 - val_accuracy: 0.8658\n",
      "Epoch 11/30\n",
      "860/860 [==============================] - 39s 45ms/step - loss: 0.3260 - accuracy: 0.8773 - val_loss: 0.3463 - val_accuracy: 0.8776\n",
      "Epoch 12/30\n",
      "860/860 [==============================] - 39s 45ms/step - loss: 0.3131 - accuracy: 0.8872 - val_loss: 0.3372 - val_accuracy: 0.8810\n",
      "Epoch 13/30\n",
      "860/860 [==============================] - 39s 46ms/step - loss: 0.3055 - accuracy: 0.8889 - val_loss: 0.3507 - val_accuracy: 0.8758\n",
      "Epoch 14/30\n",
      "860/860 [==============================] - 39s 45ms/step - loss: 0.3018 - accuracy: 0.8893 - val_loss: 0.3639 - val_accuracy: 0.8674\n",
      "Epoch 15/30\n",
      "860/860 [==============================] - 39s 46ms/step - loss: 0.2935 - accuracy: 0.8918 - val_loss: 0.4041 - val_accuracy: 0.8506\n",
      "Epoch 16/30\n",
      "860/860 [==============================] - 39s 45ms/step - loss: 0.2869 - accuracy: 0.8955 - val_loss: 0.2988 - val_accuracy: 0.8922\n",
      "Epoch 17/30\n",
      "860/860 [==============================] - 39s 46ms/step - loss: 0.2763 - accuracy: 0.8985 - val_loss: 0.4154 - val_accuracy: 0.8592\n",
      "Epoch 18/30\n",
      "860/860 [==============================] - 40s 46ms/step - loss: 0.2772 - accuracy: 0.8980 - val_loss: 0.3476 - val_accuracy: 0.8744\n",
      "Epoch 19/30\n",
      "860/860 [==============================] - 39s 46ms/step - loss: 0.2715 - accuracy: 0.9006 - val_loss: 0.3169 - val_accuracy: 0.8862\n",
      "Epoch 20/30\n",
      "860/860 [==============================] - 39s 46ms/step - loss: 0.2651 - accuracy: 0.9034 - val_loss: 0.3268 - val_accuracy: 0.8834\n",
      "Epoch 21/30\n",
      "860/860 [==============================] - 39s 45ms/step - loss: 0.2608 - accuracy: 0.9043 - val_loss: 0.2975 - val_accuracy: 0.8924\n",
      "Epoch 22/30\n",
      "860/860 [==============================] - 39s 46ms/step - loss: 0.2546 - accuracy: 0.9062 - val_loss: 0.2915 - val_accuracy: 0.8946\n",
      "Epoch 23/30\n",
      "860/860 [==============================] - 39s 46ms/step - loss: 0.2513 - accuracy: 0.9061 - val_loss: 0.2790 - val_accuracy: 0.8986\n",
      "Epoch 24/30\n",
      "860/860 [==============================] - 39s 45ms/step - loss: 0.2392 - accuracy: 0.9129 - val_loss: 0.3023 - val_accuracy: 0.8910\n",
      "Epoch 25/30\n",
      "860/860 [==============================] - 39s 46ms/step - loss: 0.2428 - accuracy: 0.9110 - val_loss: 0.2891 - val_accuracy: 0.8952\n",
      "Epoch 26/30\n",
      "860/860 [==============================] - 39s 45ms/step - loss: 0.2369 - accuracy: 0.9123 - val_loss: 0.2866 - val_accuracy: 0.8988\n",
      "Epoch 27/30\n",
      "860/860 [==============================] - 39s 46ms/step - loss: 0.2314 - accuracy: 0.9146 - val_loss: 0.2740 - val_accuracy: 0.8982\n",
      "Epoch 28/30\n",
      "860/860 [==============================] - 39s 46ms/step - loss: 0.2224 - accuracy: 0.9192 - val_loss: 0.3045 - val_accuracy: 0.8912\n",
      "Epoch 29/30\n",
      "860/860 [==============================] - 39s 45ms/step - loss: 0.2194 - accuracy: 0.9187 - val_loss: 0.2833 - val_accuracy: 0.8968\n",
      "Epoch 30/30\n",
      "860/860 [==============================] - 39s 45ms/step - loss: 0.2159 - accuracy: 0.9206 - val_loss: 0.2728 - val_accuracy: 0.9026\n"
     ]
    }
   ],
   "source": [
    "model_history=model.fit(x_train,y_train,epochs=30,batch_size=64,\n",
    "                       validation_data=(x_vaid,y_vaid))"
   ]
  },
  {
   "cell_type": "code",
   "execution_count": 21,
   "metadata": {},
   "outputs": [],
   "source": [
    "model.save(\"my_fashion_mnist_trained_model.h5\")"
   ]
  },
  {
   "cell_type": "code",
   "execution_count": 22,
   "metadata": {},
   "outputs": [
    {
     "data": {
      "text/plain": [
       "'C:\\\\Users\\\\Janvi'"
      ]
     },
     "execution_count": 22,
     "metadata": {},
     "output_type": "execute_result"
    }
   ],
   "source": [
    "%pwd\n"
   ]
  },
  {
   "cell_type": "code",
   "execution_count": 23,
   "metadata": {},
   "outputs": [
    {
     "data": {
      "image/png": "[encoded data removed]",
      "text/plain": [
       "<Figure size 576x360 with 1 Axes>"
      ]
     },
     "metadata": {
      "needs_background": "light"
     },
     "output_type": "display_data"
    }
   ],
   "source": [
    "import pandas as pd\n",
    "\n",
    "pd.DataFrame(model_history.history).plot(figsize=(8,5))\n",
    "plt.grid(True)\n",
    "plt.gca().set_ylim(0,1)\n",
    "plt.show()\n"
   ]
  },
  {
   "cell_type": "code",
   "execution_count": 24,
   "metadata": {},
   "outputs": [
    {
     "name": "stdout",
     "output_type": "stream",
     "text": [
      "313/313 [==============================] - 3s 8ms/step - loss: 0.2814 - accuracy: 0.8997\n"
     ]
    }
   ],
   "source": [
    "eva=model.evaluate(x_test_n,y_test)"
   ]
  },
  {
   "cell_type": "code",
   "execution_count": 26,
   "metadata": {},
   "outputs": [
    {
     "data": {
      "text/plain": [
       "[0.2813540995121002, 0.8996999859809875]"
      ]
     },
     "execution_count": 26,
     "metadata": {},
     "output_type": "execute_result"
    }
   ],
   "source": [
    " eva"
   ]
  },
  {
   "cell_type": "code",
   "execution_count": 27,
   "metadata": {},
   "outputs": [],
   "source": [
    "x_new =x_test[:5]"
   ]
  },
  {
   "cell_type": "code",
   "execution_count": 28,
   "metadata": {},
   "outputs": [
    {
     "name": "stderr",
     "output_type": "stream",
     "text": [
      "C:\\Users\\Janvi\\anaconda3\\lib\\site-packages\\tensorflow\\python\\keras\\engine\\sequential.py:450: UserWarning: `model.predict_classes()` is deprecated and will be removed after 2021-01-01. Please use instead:* `np.argmax(model.predict(x), axis=-1)`,   if your model does multi-class classification   (e.g. if it uses a `softmax` last-layer activation).* `(model.predict(x) > 0.5).astype(\"int32\")`,   if your model does binary classification   (e.g. if it uses a `sigmoid` last-layer activation).\n",
      "  warnings.warn('`model.predict_classes()` is deprecated and '\n"
     ]
    },
    {
     "data": {
      "text/plain": [
       "array([9, 2, 1, 1, 6], dtype=int64)"
      ]
     },
     "execution_count": 28,
     "metadata": {},
     "output_type": "execute_result"
    }
   ],
   "source": [
    "y_pred=model.predict_classes(x_new)\n",
    "y_pred"
   ]
  },
  {
   "cell_type": "code",
   "execution_count": 29,
   "metadata": {},
   "outputs": [
    {
     "data": {
      "text/plain": [
       "array([9, 2, 1, 1, 6], dtype=uint8)"
      ]
     },
     "execution_count": 29,
     "metadata": {},
     "output_type": "execute_result"
    }
   ],
   "source": [
    "y_test[:5]"
   ]
  },
  {
   "cell_type": "code",
   "execution_count": 36,
   "metadata": {},
   "outputs": [
    {
     "name": "stdout",
     "output_type": "stream",
     "text": [
      "AxesImage(54,36;334.8x217.44)\n"
     ]
    },
    {
     "data": {
      "image/png": "[encoded data removed]",
      "text/plain": [
       "<Figure size 432x288 with 1 Axes>"
      ]
     },
     "metadata": {
      "needs_background": "light"
     },
     "output_type": "display_data"
    }
   ],
   "source": [
    "print(plt.imshow(x_test[0].reshape((28,28))))"
   ]
  },
  {
   "cell_type": "code",
   "execution_count": 38,
   "metadata": {},
   "outputs": [
    {
     "data": {
      "text/plain": [
       "<function tensorflow.python.keras.backend.clear_session()>"
      ]
     },
     "execution_count": 38,
     "metadata": {},
     "output_type": "execute_result"
    }
   ],
   "source": [
    "keras.backend.clear_session"
   ]
  },
  {
   "cell_type": "code",
   "execution_count": 39,
   "metadata": {},
   "outputs": [],
   "source": [
    "del model"
   ]
  },
  {
   "cell_type": "code",
   "execution_count": null,
   "metadata": {},
   "outputs": [],
   "source": []
  }
 ],
 "metadata": {
  "kernelspec": {
   "display_name": "Python 3",
   "language": "python",
   "name": "python3"
  },
  "language_info": {
   "codemirror_mode": {
    "name": "ipython",
    "version": 3
   },
   "file_extension": ".py",
   "mimetype": "text/x-python",
   "name": "python",
   "nbconvert_exporter": "python",
   "pygments_lexer": "ipython3",
   "version": "3.8.5"
  }
 },
 "nbformat": 4,
 "nbformat_minor": 4
}
